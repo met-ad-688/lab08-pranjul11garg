{
  "cells": [
    {
      "cell_type": "markdown",
      "metadata": {},
      "source": [
        "---\n",
        "title: \"Module 05: Lab 02\"\n",
        "subtitle: \"Regression Modeling on Employment Data\"\n",
        "author:\n",
        "  - name: Pranjul Garg\n",
        "    affiliations:\n",
        "      - id: BU\n",
        "        name: Boston University\n",
        "        city: Boston\n",
        "        state: MA\n",
        " \n",
        "number-sections: true\n",
        "date: \"2025-04-14\"\n",
        "format:\n",
        "  html:\n",
        "    theme: cerulean\n",
        "    toc: true\n",
        "    toc-depth: 2\n",
        "date-modified: today\n",
        "date-format: long\n",
        "execute: \n",
        "  echo: false\n",
        "  eval: false\n",
        "  freeze: auto\n",
        "---"
      ]
    },
    {
      "cell_type": "markdown",
      "metadata": {},
      "source": [
        "# Objectives {.unnumbered}\n",
        "\n",
        "1. Use **PySpark** to process the Lightcast dataset.\n",
        "2. Engineer features from structured columns for salary prediction.\n",
        "3. Train **Linear Regression model**.\n",
        "4. Evaluate models using **RMSE** and **R²**.\n",
        "5. Visualize predictions using diagnostic plots.\n",
        "6. Push work to GitHub and submit the repository link.\n",
        "\n",
        "# Setup {.unnumbered}\n",
        "\n",
        "The instruction below provides you with general keywords for columns used in the lightcast file. See the data schema generated after the load dataset code above to use proper column name. For visualizations, tables, or summaries, please **customize colors, fonts, and styles** as appropriate to avoid a **2.5-point deduction**. Also, **provide a two-sentence explanation** describing key insights drawn from each section's code and outputs. \n",
        "\n",
        "1. Follow the steps below as necessary, use your best judgement in importing/installing/creating/saving files as needed.\n",
        "2. Create a new Jupyter Notebook in your `ad688-sp25-lab08` directory named `lab08_yourname.ipynb`, if the file exists make sure to change the name.\n",
        "3. Use your **EC2 instance** for this lab.\n",
        "4. Ensure the `lightcast_data.csv` file is available on the EC2 instance. if not then **Download the dataset**\n",
        "5. **Add the dataset to `.gitignore`** to avoid pushing large files to GitHub. Open your `.gitignore` file and add:\n",
        "6. Make sure to create a virtual environment and install the required Python libraries if needed, don't forget to activate it:\n",
        "7. Install the required Python libraries if needed, you can also use the given requirement file to install the packages to the virtual environment:\n",
        "\n",
        "```bash\n",
        "python3 -m venv .venv\n",
        "source .venv/bin/activate\n",
        "gdown https://drive.google.com/uc?id=1V2GCHGt2dkFGqVBeoUFckU4IhUgk4ocQ\n",
        "echo \"lightcast_job_postings.csv\" >> .gitignore\n",
        "pip install -r requirements.txt\n",
        "```"
      ]
    },
    {
      "cell_type": "code",
      "execution_count": 1,
      "metadata": {},
      "outputs": [],
      "source": [
        "#import gdown\n",
        "#url = \"https://drive.google.com/uc?id=1V2GCHGt2dkFGqVBeoUFckU4IhUgk4ocQ\"\n",
        "#gdown.download(url, \"lightcast_data.csv\", quiet=False)\n"
      ]
    },
    {
      "cell_type": "markdown",
      "metadata": {},
      "source": [
        "\n",
        "# Load the Dataset\n",
        "1. **Load the Raw Dataset**:\n",
        "   - Use Pyspark to the `lightcast_data.csv` file into a DataFrame:\n",
        "   - You can reuse the previous code. \n",
        "   - [Copying code from your friend constitutes plagiarism. DO NOT DO THIS]{.uured-bold}."
      ]
    },
    {
      "cell_type": "code",
      "execution_count": null,
      "metadata": {},
      "outputs": [
        {
          "name": "stderr",
          "output_type": "stream",
          "text": [
            "Setting default log level to \"WARN\".\n",
            "To adjust logging level use sc.setLogLevel(newLevel). For SparkR, use setLogLevel(newLevel).\n",
            "25/04/14 11:02:41 WARN NativeCodeLoader: Unable to load native-hadoop library for your platform... using builtin-java classes where applicable\n",
            "                                                                                \r"
          ]
        },
        {
          "name": "stdout",
          "output_type": "stream",
          "text": [
            "root\n",
            " |-- ID: string (nullable = true)\n",
            " |-- LAST_UPDATED_DATE: string (nullable = true)\n",
            " |-- LAST_UPDATED_TIMESTAMP: timestamp (nullable = true)\n",
            " |-- DUPLICATES: integer (nullable = true)\n",
            " |-- POSTED: string (nullable = true)\n",
            " |-- EXPIRED: string (nullable = true)\n",
            " |-- DURATION: integer (nullable = true)\n",
            " |-- SOURCE_TYPES: string (nullable = true)\n",
            " |-- SOURCES: string (nullable = true)\n",
            " |-- URL: string (nullable = true)\n",
            " |-- ACTIVE_URLS: string (nullable = true)\n",
            " |-- ACTIVE_SOURCES_INFO: string (nullable = true)\n",
            " |-- TITLE_RAW: string (nullable = true)\n",
            " |-- BODY: string (nullable = true)\n",
            " |-- MODELED_EXPIRED: string (nullable = true)\n",
            " |-- MODELED_DURATION: integer (nullable = true)\n",
            " |-- COMPANY: integer (nullable = true)\n",
            " |-- COMPANY_NAME: string (nullable = true)\n",
            " |-- COMPANY_RAW: string (nullable = true)\n",
            " |-- COMPANY_IS_STAFFING: boolean (nullable = true)\n",
            " |-- EDUCATION_LEVELS: string (nullable = true)\n",
            " |-- EDUCATION_LEVELS_NAME: string (nullable = true)\n",
            " |-- MIN_EDULEVELS: integer (nullable = true)\n",
            " |-- MIN_EDULEVELS_NAME: string (nullable = true)\n",
            " |-- MAX_EDULEVELS: integer (nullable = true)\n",
            " |-- MAX_EDULEVELS_NAME: string (nullable = true)\n",
            " |-- EMPLOYMENT_TYPE: integer (nullable = true)\n",
            " |-- EMPLOYMENT_TYPE_NAME: string (nullable = true)\n",
            " |-- MIN_YEARS_EXPERIENCE: integer (nullable = true)\n",
            " |-- MAX_YEARS_EXPERIENCE: integer (nullable = true)\n",
            " |-- IS_INTERNSHIP: boolean (nullable = true)\n",
            " |-- SALARY: integer (nullable = true)\n",
            " |-- REMOTE_TYPE: integer (nullable = true)\n",
            " |-- REMOTE_TYPE_NAME: string (nullable = true)\n",
            " |-- ORIGINAL_PAY_PERIOD: string (nullable = true)\n",
            " |-- SALARY_TO: integer (nullable = true)\n",
            " |-- SALARY_FROM: integer (nullable = true)\n",
            " |-- LOCATION: string (nullable = true)\n",
            " |-- CITY: string (nullable = true)\n",
            " |-- CITY_NAME: string (nullable = true)\n",
            " |-- COUNTY: integer (nullable = true)\n",
            " |-- COUNTY_NAME: string (nullable = true)\n",
            " |-- MSA: integer (nullable = true)\n",
            " |-- MSA_NAME: string (nullable = true)\n",
            " |-- STATE: integer (nullable = true)\n",
            " |-- STATE_NAME: string (nullable = true)\n",
            " |-- COUNTY_OUTGOING: integer (nullable = true)\n",
            " |-- COUNTY_NAME_OUTGOING: string (nullable = true)\n",
            " |-- COUNTY_INCOMING: integer (nullable = true)\n",
            " |-- COUNTY_NAME_INCOMING: string (nullable = true)\n",
            " |-- MSA_OUTGOING: integer (nullable = true)\n",
            " |-- MSA_NAME_OUTGOING: string (nullable = true)\n",
            " |-- MSA_INCOMING: integer (nullable = true)\n",
            " |-- MSA_NAME_INCOMING: string (nullable = true)\n",
            " |-- NAICS2: integer (nullable = true)\n",
            " |-- NAICS2_NAME: string (nullable = true)\n",
            " |-- NAICS3: integer (nullable = true)\n",
            " |-- NAICS3_NAME: string (nullable = true)\n",
            " |-- NAICS4: integer (nullable = true)\n",
            " |-- NAICS4_NAME: string (nullable = true)\n",
            " |-- NAICS5: integer (nullable = true)\n",
            " |-- NAICS5_NAME: string (nullable = true)\n",
            " |-- NAICS6: integer (nullable = true)\n",
            " |-- NAICS6_NAME: string (nullable = true)\n",
            " |-- TITLE: string (nullable = true)\n",
            " |-- TITLE_NAME: string (nullable = true)\n",
            " |-- TITLE_CLEAN: string (nullable = true)\n",
            " |-- SKILLS: string (nullable = true)\n",
            " |-- SKILLS_NAME: string (nullable = true)\n",
            " |-- SPECIALIZED_SKILLS: string (nullable = true)\n",
            " |-- SPECIALIZED_SKILLS_NAME: string (nullable = true)\n",
            " |-- CERTIFICATIONS: string (nullable = true)\n",
            " |-- CERTIFICATIONS_NAME: string (nullable = true)\n",
            " |-- COMMON_SKILLS: string (nullable = true)\n",
            " |-- COMMON_SKILLS_NAME: string (nullable = true)\n",
            " |-- SOFTWARE_SKILLS: string (nullable = true)\n",
            " |-- SOFTWARE_SKILLS_NAME: string (nullable = true)\n",
            " |-- ONET: string (nullable = true)\n",
            " |-- ONET_NAME: string (nullable = true)\n",
            " |-- ONET_2019: string (nullable = true)\n",
            " |-- ONET_2019_NAME: string (nullable = true)\n",
            " |-- CIP6: string (nullable = true)\n",
            " |-- CIP6_NAME: string (nullable = true)\n",
            " |-- CIP4: string (nullable = true)\n",
            " |-- CIP4_NAME: string (nullable = true)\n",
            " |-- CIP2: string (nullable = true)\n",
            " |-- CIP2_NAME: string (nullable = true)\n",
            " |-- SOC_2021_2: string (nullable = true)\n",
            " |-- SOC_2021_2_NAME: string (nullable = true)\n",
            " |-- SOC_2021_3: string (nullable = true)\n",
            " |-- SOC_2021_3_NAME: string (nullable = true)\n",
            " |-- SOC_2021_4: string (nullable = true)\n",
            " |-- SOC_2021_4_NAME: string (nullable = true)\n",
            " |-- SOC_2021_5: string (nullable = true)\n",
            " |-- SOC_2021_5_NAME: string (nullable = true)\n",
            " |-- LOT_CAREER_AREA: integer (nullable = true)\n",
            " |-- LOT_CAREER_AREA_NAME: string (nullable = true)\n",
            " |-- LOT_OCCUPATION: integer (nullable = true)\n",
            " |-- LOT_OCCUPATION_NAME: string (nullable = true)\n",
            " |-- LOT_SPECIALIZED_OCCUPATION: integer (nullable = true)\n",
            " |-- LOT_SPECIALIZED_OCCUPATION_NAME: string (nullable = true)\n",
            " |-- LOT_OCCUPATION_GROUP: integer (nullable = true)\n",
            " |-- LOT_OCCUPATION_GROUP_NAME: string (nullable = true)\n",
            " |-- LOT_V6_SPECIALIZED_OCCUPATION: integer (nullable = true)\n",
            " |-- LOT_V6_SPECIALIZED_OCCUPATION_NAME: string (nullable = true)\n",
            " |-- LOT_V6_OCCUPATION: integer (nullable = true)\n",
            " |-- LOT_V6_OCCUPATION_NAME: string (nullable = true)\n",
            " |-- LOT_V6_OCCUPATION_GROUP: integer (nullable = true)\n",
            " |-- LOT_V6_OCCUPATION_GROUP_NAME: string (nullable = true)\n",
            " |-- LOT_V6_CAREER_AREA: integer (nullable = true)\n",
            " |-- LOT_V6_CAREER_AREA_NAME: string (nullable = true)\n",
            " |-- SOC_2: string (nullable = true)\n",
            " |-- SOC_2_NAME: string (nullable = true)\n",
            " |-- SOC_3: string (nullable = true)\n",
            " |-- SOC_3_NAME: string (nullable = true)\n",
            " |-- SOC_4: string (nullable = true)\n",
            " |-- SOC_4_NAME: string (nullable = true)\n",
            " |-- SOC_5: string (nullable = true)\n",
            " |-- SOC_5_NAME: string (nullable = true)\n",
            " |-- LIGHTCAST_SECTORS: string (nullable = true)\n",
            " |-- LIGHTCAST_SECTORS_NAME: string (nullable = true)\n",
            " |-- NAICS_2022_2: integer (nullable = true)\n",
            " |-- NAICS_2022_2_NAME: string (nullable = true)\n",
            " |-- NAICS_2022_3: integer (nullable = true)\n",
            " |-- NAICS_2022_3_NAME: string (nullable = true)\n",
            " |-- NAICS_2022_4: integer (nullable = true)\n",
            " |-- NAICS_2022_4_NAME: string (nullable = true)\n",
            " |-- NAICS_2022_5: integer (nullable = true)\n",
            " |-- NAICS_2022_5_NAME: string (nullable = true)\n",
            " |-- NAICS_2022_6: integer (nullable = true)\n",
            " |-- NAICS_2022_6_NAME: string (nullable = true)\n",
            "\n"
          ]
        },
        {
          "name": "stderr",
          "output_type": "stream",
          "text": [
            "25/04/14 11:03:04 WARN SparkStringUtils: Truncated the string representation of a plan since it was too large. This behavior can be adjusted by setting 'spark.sql.debug.maxToStringFields'.\n",
            "                                                                                \r"
          ]
        },
        {
          "name": "stdout",
          "output_type": "stream",
          "text": [
            "+--------------------+-----------------+----------------------+----------+--------+---------+--------+--------------------+--------------------+--------------------+-----------+-------------------+--------------------+--------------------+---------------+----------------+--------+--------------------+-----------+-------------------+----------------+---------------------+-------------+-------------------+-------------+------------------+---------------+--------------------+--------------------+--------------------+-------------+------+-----------+----------------+-------------------+---------+-----------+--------------------+--------------------+-------------+------+--------------+-----+--------------------+-----+----------+---------------+--------------------+---------------+--------------------+------------+--------------------+------------+--------------------+------+--------------------+------+--------------------+------+--------------------+------+--------------------+------+--------------------+------------------+-------------------+--------------------+--------------------+--------------------+--------------------+-----------------------+--------------------+--------------------+--------------------+--------------------+--------------------+--------------------+----------+--------------------+----------+--------------------+--------------------+--------------------+--------------------+--------------------+--------------------+--------------------+----------+--------------------+----------+--------------------+----------+---------------+----------+---------------+---------------+--------------------+--------------+--------------------+--------------------------+-------------------------------+--------------------+-------------------------+-----------------------------+----------------------------------+-----------------+----------------------+-----------------------+----------------------------+------------------+-----------------------+-------+--------------------+-------+--------------------+-------+---------------+-------+---------------+-----------------+----------------------+------------+--------------------+------------+--------------------+------------+--------------------+------------+--------------------+------------+--------------------+\n",
            "|                  ID|LAST_UPDATED_DATE|LAST_UPDATED_TIMESTAMP|DUPLICATES|  POSTED|  EXPIRED|DURATION|        SOURCE_TYPES|             SOURCES|                 URL|ACTIVE_URLS|ACTIVE_SOURCES_INFO|           TITLE_RAW|                BODY|MODELED_EXPIRED|MODELED_DURATION| COMPANY|        COMPANY_NAME|COMPANY_RAW|COMPANY_IS_STAFFING|EDUCATION_LEVELS|EDUCATION_LEVELS_NAME|MIN_EDULEVELS| MIN_EDULEVELS_NAME|MAX_EDULEVELS|MAX_EDULEVELS_NAME|EMPLOYMENT_TYPE|EMPLOYMENT_TYPE_NAME|MIN_YEARS_EXPERIENCE|MAX_YEARS_EXPERIENCE|IS_INTERNSHIP|SALARY|REMOTE_TYPE|REMOTE_TYPE_NAME|ORIGINAL_PAY_PERIOD|SALARY_TO|SALARY_FROM|            LOCATION|                CITY|    CITY_NAME|COUNTY|   COUNTY_NAME|  MSA|            MSA_NAME|STATE|STATE_NAME|COUNTY_OUTGOING|COUNTY_NAME_OUTGOING|COUNTY_INCOMING|COUNTY_NAME_INCOMING|MSA_OUTGOING|   MSA_NAME_OUTGOING|MSA_INCOMING|   MSA_NAME_INCOMING|NAICS2|         NAICS2_NAME|NAICS3|         NAICS3_NAME|NAICS4|         NAICS4_NAME|NAICS5|         NAICS5_NAME|NAICS6|         NAICS6_NAME|             TITLE|         TITLE_NAME|         TITLE_CLEAN|              SKILLS|         SKILLS_NAME|  SPECIALIZED_SKILLS|SPECIALIZED_SKILLS_NAME|      CERTIFICATIONS| CERTIFICATIONS_NAME|       COMMON_SKILLS|  COMMON_SKILLS_NAME|     SOFTWARE_SKILLS|SOFTWARE_SKILLS_NAME|      ONET|           ONET_NAME| ONET_2019|      ONET_2019_NAME|                CIP6|           CIP6_NAME|                CIP4|           CIP4_NAME|                CIP2|           CIP2_NAME|SOC_2021_2|     SOC_2021_2_NAME|SOC_2021_3|     SOC_2021_3_NAME|SOC_2021_4|SOC_2021_4_NAME|SOC_2021_5|SOC_2021_5_NAME|LOT_CAREER_AREA|LOT_CAREER_AREA_NAME|LOT_OCCUPATION| LOT_OCCUPATION_NAME|LOT_SPECIALIZED_OCCUPATION|LOT_SPECIALIZED_OCCUPATION_NAME|LOT_OCCUPATION_GROUP|LOT_OCCUPATION_GROUP_NAME|LOT_V6_SPECIALIZED_OCCUPATION|LOT_V6_SPECIALIZED_OCCUPATION_NAME|LOT_V6_OCCUPATION|LOT_V6_OCCUPATION_NAME|LOT_V6_OCCUPATION_GROUP|LOT_V6_OCCUPATION_GROUP_NAME|LOT_V6_CAREER_AREA|LOT_V6_CAREER_AREA_NAME|  SOC_2|          SOC_2_NAME|  SOC_3|          SOC_3_NAME|  SOC_4|     SOC_4_NAME|  SOC_5|     SOC_5_NAME|LIGHTCAST_SECTORS|LIGHTCAST_SECTORS_NAME|NAICS_2022_2|   NAICS_2022_2_NAME|NAICS_2022_3|   NAICS_2022_3_NAME|NAICS_2022_4|   NAICS_2022_4_NAME|NAICS_2022_5|   NAICS_2022_5_NAME|NAICS_2022_6|   NAICS_2022_6_NAME|\n",
            "+--------------------+-----------------+----------------------+----------+--------+---------+--------+--------------------+--------------------+--------------------+-----------+-------------------+--------------------+--------------------+---------------+----------------+--------+--------------------+-----------+-------------------+----------------+---------------------+-------------+-------------------+-------------+------------------+---------------+--------------------+--------------------+--------------------+-------------+------+-----------+----------------+-------------------+---------+-----------+--------------------+--------------------+-------------+------+--------------+-----+--------------------+-----+----------+---------------+--------------------+---------------+--------------------+------------+--------------------+------------+--------------------+------+--------------------+------+--------------------+------+--------------------+------+--------------------+------+--------------------+------------------+-------------------+--------------------+--------------------+--------------------+--------------------+-----------------------+--------------------+--------------------+--------------------+--------------------+--------------------+--------------------+----------+--------------------+----------+--------------------+--------------------+--------------------+--------------------+--------------------+--------------------+--------------------+----------+--------------------+----------+--------------------+----------+---------------+----------+---------------+---------------+--------------------+--------------+--------------------+--------------------------+-------------------------------+--------------------+-------------------------+-----------------------------+----------------------------------+-----------------+----------------------+-----------------------+----------------------------+------------------+-----------------------+-------+--------------------+-------+--------------------+-------+---------------+-------+---------------+-----------------+----------------------+------------+--------------------+------------+--------------------+------------+--------------------+------------+--------------------+------------+--------------------+\n",
            "|1f57d95acf4dc67ed...|         9/6/2024|  2024-09-06 20:32:...|         0|6/2/2024| 6/8/2024|       6|   [\\n  \"Company\"\\n]|[\\n  \"brassring.c...|[\\n  \"https://sjo...|         []|               NULL|Enterprise Analys...|31-May-2024\\n\\nEn...|       6/8/2024|               6|  894731|          Murphy USA| Murphy USA|              false|       [\\n  2\\n]| [\\n  \"Bachelor's ...|            2|  Bachelor's degree|         NULL|              NULL|              1|Full-time (> 32 h...|                   2|                   2|        false|  NULL|          0|          [None]|               NULL|     NULL|       NULL|{\\n  \"lat\": 33.20...|RWwgRG9yYWRvLCBBUg==|El Dorado, AR|  5139|     Union, AR|20980|       El Dorado, AR|    5|  Arkansas|           5139|           Union, AR|           5139|           Union, AR|       20980|       El Dorado, AR|       20980|       El Dorado, AR|    44|        Retail Trade|   441|Motor Vehicle and...|  4413|Automotive Parts,...| 44133|Automotive Parts ...|441330|Automotive Parts ...|ET29C073C03D1F86B4|Enterprise Analysts|enterprise analys...|[\\n  \"KS126DB6T06...|[\\n  \"Merchandisi...|[\\n  \"KS126DB6T06...|   [\\n  \"Merchandisi...|                  []|                  []|[\\n  \"KS126706DPF...|[\\n  \"Mathematics...|[\\n  \"KS440W865GC...|[\\n  \"SQL (Progra...|15-2051.01|Business Intellig...|15-2051.01|Business Intellig...|[\\n  \"45.0601\",\\n...|[\\n  \"Economics, ...|[\\n  \"45.06\",\\n  ...|[\\n  \"Economics\",...|[\\n  \"45\",\\n  \"27...|[\\n  \"Social Scie...|   15-0000|Computer and Math...|   15-2000|Mathematical Scie...|   15-2050|Data Scientists|   15-2051|Data Scientists|             23|Information Techn...|        231010|Business Intellig...|                  23101011|           General ERP Analy...|                2310|     Business Intellig...|                     23101011|              General ERP Analy...|           231010|  Business Intellig...|                   2310|        Business Intellig...|                23|   Information Techn...|15-0000|Computer and Math...|15-2000|Mathematical Scie...|15-2050|Data Scientists|15-2051|Data Scientists|        [\\n  7\\n]|  [\\n  \"Artificial ...|          44|        Retail Trade|         441|Motor Vehicle and...|        4413|Automotive Parts,...|       44133|Automotive Parts ...|      441330|Automotive Parts ...|\n",
            "|0cb072af26757b6c4...|         8/2/2024|  2024-08-02 17:08:...|         0|6/2/2024| 8/1/2024|    NULL| [\\n  \"Job Board\"\\n]| [\\n  \"maine.gov\"\\n]|[\\n  \"https://job...|         []|               NULL|Oracle Consultant...|Oracle Consultant...|       8/1/2024|            NULL|  133098|Smx Corporation L...|        SMX|               true|      [\\n  99\\n]| [\\n  \"No Educatio...|           99|No Education Listed|         NULL|              NULL|              1|Full-time (> 32 h...|                   3|                   3|        false|  NULL|          1|          Remote|               NULL|     NULL|       NULL|{\\n  \"lat\": 44.31...|    QXVndXN0YSwgTUU=|  Augusta, ME| 23011|  Kennebec, ME|12300|Augusta-Watervill...|   23|     Maine|          23011|        Kennebec, ME|          23011|        Kennebec, ME|       12300|Augusta-Watervill...|       12300|Augusta-Watervill...|    56|Administrative an...|   561|Administrative an...|  5613| Employment Services| 56132|Temporary Help Se...|561320|Temporary Help Se...|ET21DDA63780A7DC09| Oracle Consultants|oracle consultant...|[\\n  \"KS122626T55...|[\\n  \"Procurement...|[\\n  \"KS122626T55...|   [\\n  \"Procurement...|                  []|                  []|                  []|                  []|[\\n  \"BGSBF3F508F...|[\\n  \"Oracle Busi...|15-2051.01|Business Intellig...|15-2051.01|Business Intellig...|                  []|                  []|                  []|                  []|                  []|                  []|   15-0000|Computer and Math...|   15-2000|Mathematical Scie...|   15-2050|Data Scientists|   15-2051|Data Scientists|             23|Information Techn...|        231010|Business Intellig...|                  23101012|           Oracle Consultant...|                2310|     Business Intellig...|                     23101012|              Oracle Consultant...|           231010|  Business Intellig...|                   2310|        Business Intellig...|                23|   Information Techn...|15-0000|Computer and Math...|15-2000|Mathematical Scie...|15-2050|Data Scientists|15-2051|Data Scientists|             NULL|                  NULL|          56|Administrative an...|         561|Administrative an...|        5613| Employment Services|       56132|Temporary Help Se...|      561320|Temporary Help Se...|\n",
            "|85318b12b3331fa49...|         9/6/2024|  2024-09-06 20:32:...|         1|6/2/2024| 7/7/2024|      35| [\\n  \"Job Board\"\\n]|[\\n  \"dejobs.org\"\\n]|[\\n  \"https://dej...|         []|               NULL|        Data Analyst|Taking care of pe...|      6/10/2024|               8|39063746|            Sedgwick|   Sedgwick|              false|       [\\n  2\\n]| [\\n  \"Bachelor's ...|            2|  Bachelor's degree|         NULL|              NULL|              1|Full-time (> 32 h...|                   5|                NULL|        false|  NULL|          0|          [None]|               NULL|     NULL|       NULL|{\\n  \"lat\": 32.77...|    RGFsbGFzLCBUWA==|   Dallas, TX| 48113|    Dallas, TX|19100|Dallas-Fort Worth...|   48|     Texas|          48113|          Dallas, TX|          48113|          Dallas, TX|       19100|Dallas-Fort Worth...|       19100|Dallas-Fort Worth...|    52|Finance and Insur...|   524|Insurance Carrier...|  5242|Agencies, Brokera...| 52429|Other Insurance R...|524291|    Claims Adjusting|ET3037E0C947A02404|      Data Analysts|        data analyst|[\\n  \"KS1218W78FG...|[\\n  \"Management\"...|[\\n  \"ESF3939CE1F...|   [\\n  \"Exception R...|[\\n  \"KS683TN76T7...|[\\n  \"Security Cl...|[\\n  \"KS1218W78FG...|[\\n  \"Management\"...|[\\n  \"KS126HY6YLT...|[\\n  \"Microsoft O...|15-2051.01|Business Intellig...|15-2051.01|Business Intellig...|                  []|                  []|                  []|                  []|                  []|                  []|   15-0000|Computer and Math...|   15-2000|Mathematical Scie...|   15-2050|Data Scientists|   15-2051|Data Scientists|             23|Information Techn...|        231113|Data / Data Minin...|                  23111310|                   Data Analyst|                2311|     Data Analysis and...|                     23111310|                      Data Analyst|           231113|  Data / Data Minin...|                   2311|        Data Analysis and...|                23|   Information Techn...|15-0000|Computer and Math...|15-2000|Mathematical Scie...|15-2050|Data Scientists|15-2051|Data Scientists|             NULL|                  NULL|          52|Finance and Insur...|         524|Insurance Carrier...|        5242|Agencies, Brokera...|       52429|Other Insurance R...|      524291|    Claims Adjusting|\n",
            "|1b5c3941e54a1889e...|         9/6/2024|  2024-09-06 20:32:...|         1|6/2/2024|7/20/2024|      48| [\\n  \"Job Board\"\\n]|[\\n  \"disabledper...|[\\n  \"https://www...|         []|               NULL|Sr. Lead Data Mgm...|About this role:\\...|      6/12/2024|              10|37615159|         Wells Fargo|Wells Fargo|              false|      [\\n  99\\n]| [\\n  \"No Educatio...|           99|No Education Listed|         NULL|              NULL|              1|Full-time (> 32 h...|                   3|                NULL|        false|  NULL|          0|          [None]|               NULL|     NULL|       NULL|{\\n  \"lat\": 33.44...|    UGhvZW5peCwgQVo=|  Phoenix, AZ|  4013|  Maricopa, AZ|38060|Phoenix-Mesa-Chan...|    4|   Arizona|           4013|        Maricopa, AZ|           4013|        Maricopa, AZ|       38060|Phoenix-Mesa-Chan...|       38060|Phoenix-Mesa-Chan...|    52|Finance and Insur...|   522|Credit Intermedia...|  5221|Depository Credit...| 52211|  Commercial Banking|522110|  Commercial Banking|ET2114E0404BA30075|Management Analysts|sr lead data mgmt...|[\\n  \"KS123QX62QY...|[\\n  \"Exit Strate...|[\\n  \"KS123QX62QY...|   [\\n  \"Exit Strate...|                  []|                  []|[\\n  \"KS7G6NP6R6L...|[\\n  \"Reliability...|[\\n  \"KS4409D76NW...|[\\n  \"SAS (Softwa...|15-2051.01|Business Intellig...|15-2051.01|Business Intellig...|                  []|                  []|                  []|                  []|                  []|                  []|   15-0000|Computer and Math...|   15-2000|Mathematical Scie...|   15-2050|Data Scientists|   15-2051|Data Scientists|             23|Information Techn...|        231113|Data / Data Minin...|                  23111310|                   Data Analyst|                2311|     Data Analysis and...|                     23111310|                      Data Analyst|           231113|  Data / Data Minin...|                   2311|        Data Analysis and...|                23|   Information Techn...|15-0000|Computer and Math...|15-2000|Mathematical Scie...|15-2050|Data Scientists|15-2051|Data Scientists|        [\\n  6\\n]|  [\\n  \"Data Privac...|          52|Finance and Insur...|         522|Credit Intermedia...|        5221|Depository Credit...|       52211|  Commercial Banking|      522110|  Commercial Banking|\n",
            "|cb5ca25f02bdf25c1...|        6/19/2024|   2024-06-19 07:00:00|         0|6/2/2024|6/17/2024|      15|[\\n  \"FreeJobBoar...|[\\n  \"craigslist....|[\\n  \"https://mod...|         []|               NULL|Comisiones de $10...|Comisiones de $10...|      6/17/2024|              15|       0|        Unclassified|      LH/GM|              false|      [\\n  99\\n]| [\\n  \"No Educatio...|           99|No Education Listed|         NULL|              NULL|              3|Part-time / full-...|                NULL|                NULL|        false| 92500|          0|          [None]|               year|   150000|      35000|{\\n  \"lat\": 37.63...|    TW9kZXN0bywgQ0E=|  Modesto, CA|  6099|Stanislaus, CA|33700|         Modesto, CA|    6|California|           6099|      Stanislaus, CA|           6099|      Stanislaus, CA|       33700|         Modesto, CA|       33700|         Modesto, CA|    99|Unclassified Indu...|   999|Unclassified Indu...|  9999|Unclassified Indu...| 99999|Unclassified Indu...|999999|Unclassified Indu...|ET0000000000000000|       Unclassified|comisiones de por...|                  []|                  []|                  []|                     []|                  []|                  []|                  []|                  []|                  []|                  []|15-2051.01|Business Intellig...|15-2051.01|Business Intellig...|                  []|                  []|                  []|                  []|                  []|                  []|   15-0000|Computer and Math...|   15-2000|Mathematical Scie...|   15-2050|Data Scientists|   15-2051|Data Scientists|             23|Information Techn...|        231010|Business Intellig...|                  23101012|           Oracle Consultant...|                2310|     Business Intellig...|                     23101012|              Oracle Consultant...|           231010|  Business Intellig...|                   2310|        Business Intellig...|                23|   Information Techn...|15-0000|Computer and Math...|15-2000|Mathematical Scie...|15-2050|Data Scientists|15-2051|Data Scientists|             NULL|                  NULL|          99|Unclassified Indu...|         999|Unclassified Indu...|        9999|Unclassified Indu...|       99999|Unclassified Indu...|      999999|Unclassified Indu...|\n",
            "+--------------------+-----------------+----------------------+----------+--------+---------+--------+--------------------+--------------------+--------------------+-----------+-------------------+--------------------+--------------------+---------------+----------------+--------+--------------------+-----------+-------------------+----------------+---------------------+-------------+-------------------+-------------+------------------+---------------+--------------------+--------------------+--------------------+-------------+------+-----------+----------------+-------------------+---------+-----------+--------------------+--------------------+-------------+------+--------------+-----+--------------------+-----+----------+---------------+--------------------+---------------+--------------------+------------+--------------------+------------+--------------------+------+--------------------+------+--------------------+------+--------------------+------+--------------------+------+--------------------+------------------+-------------------+--------------------+--------------------+--------------------+--------------------+-----------------------+--------------------+--------------------+--------------------+--------------------+--------------------+--------------------+----------+--------------------+----------+--------------------+--------------------+--------------------+--------------------+--------------------+--------------------+--------------------+----------+--------------------+----------+--------------------+----------+---------------+----------+---------------+---------------+--------------------+--------------+--------------------+--------------------------+-------------------------------+--------------------+-------------------------+-----------------------------+----------------------------------+-----------------+----------------------+-----------------------+----------------------------+------------------+-----------------------+-------+--------------------+-------+--------------------+-------+---------------+-------+---------------+-----------------+----------------------+------------+--------------------+------------+--------------------+------------+--------------------+------------+--------------------+------------+--------------------+\n",
            "only showing top 5 rows\n",
            "\n"
          ]
        }
      ],
      "source": [
        "#| eval: true\n",
        "#| echo: true\n",
        "from pyspark.sql import SparkSession\n",
        "import pandas as pd\n",
        "import plotly.express as px\n",
        "import plotly.io as pio\n",
        "pio.renderers.default = \"notebook\"\n",
        "\n",
        "# Initialize Spark Session\n",
        "spark = SparkSession.builder.appName(\"LightcastData\").getOrCreate()\n",
        "\n",
        "# Load Data\n",
        "df = spark.read.option(\"header\", \"true\").option(\"inferSchema\", \"true\").option(\"multiLine\",\"true\").option(\"escape\", \"\\\"\").csv(\"./data/lightcast_data.csv\")\n",
        "\n",
        "# Show Schema and Sample Data\n",
        "#print(\"---This is Diagnostic check, No need to print it in the final doc---\")\n",
        "\n",
        "#df.printSchema() # comment this line when rendering the submission\n",
        "#df.show(5)"
      ]
    },
    {
      "cell_type": "markdown",
      "metadata": {},
      "source": [
        "# Feature Engineering\n",
        "\n",
        "Feature Engineering is a crucial step in preparing your data for machine learning. In this lab, we will focus on the following tasks:\n",
        "\n",
        "1. **Drop rows with missing values** in the target variable and key features.\n",
        "2. By now you are already familiar with the code and the data. Based on your understanding please choose any 3 (my code output has 10) variables as:\n",
        "   1. two continuous variables (use your best judgment!)\n",
        "   2. one categorical.\n",
        "   3. Your dependent variable (y) is `SALARY`.\n",
        "3. **Convert categorical variables** into numerical representations using **StringIndexer** and **OneHotEncoder**.\n",
        "4. **Assemble features** into a single vector using **VectorAssembler**.\n",
        "5. **Split the data** into training and testing sets."
      ]
    },
    {
      "cell_type": "code",
      "execution_count": 2,
      "metadata": {},
      "outputs": [
        {
          "name": "stderr",
          "output_type": "stream",
          "text": [
            "                                                                                \r"
          ]
        },
        {
          "name": "stdout",
          "output_type": "stream",
          "text": [
            "+-------------------------------+------+\n",
            "|features                       |SALARY|\n",
            "+-------------------------------+------+\n",
            "|[241000.0,144600.0,6.0,1.0,0.0]|192800|\n",
            "|[188600.0,63200.0,12.0,1.0,0.0]|125900|\n",
            "|[120328.0,116792.0,5.0,1.0,0.0]|118560|\n",
            "|[241000.0,144600.0,6.0,1.0,0.0]|192800|\n",
            "|[169800.0,63200.0,12.0,1.0,0.0]|116500|\n",
            "+-------------------------------+------+\n",
            "only showing top 5 rows\n",
            "\n"
          ]
        }
      ],
      "source": [
        "#| eval: false\n",
        "#| echo: true\n",
        "\n",
        "from pyspark.sql.functions import col\n",
        "from pyspark.ml.feature import StringIndexer, OneHotEncoder, VectorAssembler\n",
        "from pyspark.ml import Pipeline\n",
        "\n",
        "#Drop rows with nulls in required columns\n",
        "df = df.dropna(subset=[\"SALARY\", \"SALARY_TO\", \"SALARY_FROM\", \"DURATION\", \"MIN_YEARS_EXPERIENCE\", \"EMPLOYMENT_TYPE_NAME\"])\n",
        "\n",
        "# Define columns\n",
        "categorical_cols = [\"EMPLOYMENT_TYPE_NAME\"]\n",
        "numerical_cols = [\"SALARY_TO\", \"SALARY_FROM\", \"MIN_YEARS_EXPERIENCE\"]\n",
        "\n",
        "#Index and encode categoricals\n",
        "indexers = [StringIndexer(inputCol=col, outputCol=f\"{col}_idx\", handleInvalid='skip') for col in categorical_cols]\n",
        "encoders = [OneHotEncoder(inputCol=f\"{col}_idx\", outputCol=f\"{col}_vec\") for col in categorical_cols]\n",
        "\n",
        "assembler = VectorAssembler(\n",
        "    inputCols=numerical_cols + [f\"{col}_vec\" for col in categorical_cols],\n",
        "    outputCol=\"features\"\n",
        ")\n",
        "\n",
        "# Build pipeline\n",
        "pipeline = Pipeline(stages=indexers + encoders + [assembler])\n",
        "\n",
        "pipeline_model = pipeline.fit(df)\n",
        "data = pipeline_model.transform(df)\n",
        "\n",
        "data.select(\"features\", \"SALARY\").show(5, False)\n"
      ]
    },
    {
      "cell_type": "markdown",
      "metadata": {},
      "source": [
        "# Train/Test Split\n",
        "\n",
        "- Perform a **random split** of the data into training and testing sets.\n",
        "- Set a random seed for reproducibility.\n",
        "- You can choose a number for splitting to your liking, justify your choice."
      ]
    },
    {
      "cell_type": "code",
      "execution_count": 3,
      "metadata": {},
      "outputs": [
        {
          "name": "stderr",
          "output_type": "stream",
          "text": [
            "                                                                                \r"
          ]
        },
        {
          "name": "stdout",
          "output_type": "stream",
          "text": [
            "(8716, 134)\n"
          ]
        },
        {
          "name": "stderr",
          "output_type": "stream",
          "text": [
            "[Stage 10:>                                                         (0 + 1) / 1]\r"
          ]
        },
        {
          "name": "stdout",
          "output_type": "stream",
          "text": [
            "(5700, 134)\n"
          ]
        },
        {
          "name": "stderr",
          "output_type": "stream",
          "text": [
            "                                                                                \r"
          ]
        }
      ],
      "source": [
        "#| eval: true\n",
        "#| echo: false\n",
        "train_data, test_data = data.randomSplit([0.6, 0.4], seed=801)  #U39153801\n",
        "print((train_data.count(), len(train_data.columns)))\n",
        "print((test_data.count(), len(test_data.columns)))"
      ]
    },
    {
      "cell_type": "markdown",
      "metadata": {},
      "source": [
        "#### I have used the general split type which is used while the spliting the data 60-40."
      ]
    },
    {
      "cell_type": "markdown",
      "metadata": {},
      "source": [
        "# Linear Regression\n",
        "\n",
        "- Train a **Linear Regression** model using the training data. [You will run in to an important issue here. Please make an effort in figuring it by yourself. This is one of the most asked interview questions in CapitalOne's management recruiting program.]{.uured-bold}\n",
        "- Evaluate the model on the test data.\n",
        "- Print the coefficients, intercept, R², RMSE, and MAE.\n",
        "- Use the `summary` object to extract the coefficients and their standard errors, t-values, and p-values.\n",
        "- Create a DataFrame to display the coefficients, standard errors, t-values, p-values, and confidence intervals.\n",
        "- Interpret the coefficients and their significance and explain the model performance metrics."
      ]
    },
    {
      "cell_type": "code",
      "execution_count": 4,
      "metadata": {},
      "outputs": [
        {
          "name": "stderr",
          "output_type": "stream",
          "text": [
            "25/04/14 11:09:35 WARN Instrumentation: [24ab9219] regParam is zero, which might cause numerical instability and overfitting.\n",
            "                                                                                \r"
          ]
        },
        {
          "name": "stdout",
          "output_type": "stream",
          "text": [
            "---This is Diagnostic check, No need to print it in the final doc---\n",
            "Length of features: 5\n",
            "Length of coefs: 6\n",
            "Length of se: 7\n",
            "Length of tvals: 7\n",
            "Length of pvals: 7\n"
          ]
        }
      ],
      "source": [
        "#| eval: false\n",
        "#| echo: false\n",
        "from pyspark.ml.regression import LinearRegression\n",
        "\n",
        "feature_names = assembler.getInputCols()\n",
        "\n",
        "lr = LinearRegression(featuresCol='features', labelCol='SALARY')\n",
        "lr_model = lr.fit(train_data)\n",
        "summary = lr_model.summary\n",
        "\n",
        "# Coefficients and Intercept\n",
        "# print(\"Intercept: {:.4f}\".format(glr_model.intercept))\n",
        "# print(\"Coefficients:\")\n",
        "# for i, coef in enumerate(glr_model.coefficients):\n",
        "#     print(f\"  Feature {i + 1}: {coef:.4f}\")\n",
        "\n",
        "# Summary stats\n",
        "# print(\"\\n--- Regression Summary ---\")\n",
        "# print(\"Coefficient Standard Errors:\", [f\"{val:.4f}\" for val in summary.coefficientStandardErrors])\n",
        "# print(\"T Values:\", [f\"{val:.4f}\" for val in summary.tValues])\n",
        "# print(\"P Values:\", [f\"{val:.4f}\" for val in summary.pValues])\n",
        "\n",
        "# print(f\"\\nDispersion: {summary.dispersion:.4f}\")\n",
        "# print(f\"Null Deviance: {summary.nullDeviance:.4f}\")\n",
        "# print(f\"Residual DF Null: {summary.residualDegreeOfFreedomNull}\")\n",
        "# print(f\"Deviance: {summary.deviance:.4f}\")\n",
        "# print(f\"Residual DF: {summary.residualDegreeOfFreedom}\")\n",
        "# print(f\"AIC: {summary.aic:.4f}\")\n",
        "\n",
        "# 1. Pull feature names directly from Java backend\n",
        "feature_names = summary._call_java(\"featureNames\")\n",
        "\n",
        "# 2. Construct full table including intercept\n",
        "features = [\"Intercept\"] + feature_names\n",
        "coefs = [lr_model.intercept] + list(lr_model.coefficients)\n",
        "se = list(summary.coefficientStandardErrors)\n",
        "tvals = list(summary.tValues)\n",
        "pvals = list(summary.pValues)\n",
        "\n",
        "print(\"---This is Diagnostic check, No need to print it in the final doc---\")\n",
        "print(\"Length of features:\", len(features))\n",
        "print(\"Length of coefs:\", len(coefs))\n",
        "print(\"Length of se:\", len(se))\n",
        "print(\"Length of tvals:\", len(tvals))\n",
        "print(\"Length of pvals:\", len(pvals))"
      ]
    },
    {
      "cell_type": "markdown",
      "metadata": {},
      "source": [
        "## Generalized Linear Regression Summary\n",
        "The summary of the Generalized Linear Regression model provides important insights into the model's performance and the significance of each feature. The coefficients indicate the relationship between each feature and the target variable (salary), while the standard errors, t-values, and p-values help assess the reliability of these estimates.\n",
        "\n",
        "- Please interpret them in the context of your data and model. \n",
        "- Feature Names are purposefully not printed in the output. You can use the `features` variable to print them out."
      ]
    },
    {
      "cell_type": "code",
      "execution_count": null,
      "metadata": {},
      "outputs": [],
      "source": [
        "#| eval: true\n",
        "#| echo: false\n",
        "import pandas as pd\n",
        "from tabulate import tabulate\n",
        "import pandas as pd\n",
        "\n",
        "\n",
        "coef_table = pd.DataFrame({\n",
        "    # \"Feature\": features,\n",
        "    \"Estimate\": ,\n",
        "    \"Std Error\": ,\n",
        "    \"t-stat\": ,\n",
        "    \"P-Value\": \n",
        "})\n",
        "\n",
        "# 4. Optional pretty print\n",
        "print(tabulate(coef_table, headers=\"keys\", tablefmt=\"pretty\"))\n",
        "\n",
        "# 5. Save for report\n",
        "# coef_table.to_csv(\"_output/glr_summary_pretty.csv\", index=False)\n"
      ]
    },
    {
      "cell_type": "markdown",
      "metadata": {},
      "source": [
        "# Diagnostic Plot\n",
        "\n",
        "Diagnostic plots are essential for evaluating the performance of regression models. In this section, we will create several diagnostic plots to assess the linear regression model's assumptions and performance. There are four (2*2 grid) main plots we will create, you can use `seaborn` or `matplotlib` for this:\n",
        "\n",
        "1. **Predicted vs Actual Plot**\n",
        "2. **Residuals vs Predicted Plot**\n",
        "3. **Histogram of Residuals**\n",
        "4. **QQ Plot of Residuals**\n"
      ]
    },
    {
      "cell_type": "code",
      "execution_count": null,
      "metadata": {},
      "outputs": [],
      "source": [
        "#| eval: true\n",
        "#| echo: false\n",
        "import matplotlib.pyplot as plt\n",
        "import seaborn as sns\n",
        "import scipy.stats as stats\n",
        "\n",
        "import numpy as np\n",
        "import pandas as pd\n",
        "import matplotlib.pyplot as plt\n",
        "import seaborn as sns\n",
        "import scipy.stats as stats\n",
        "\n",
        "# Load predictions from GLR model\n",
        "df_pred = summary.predictions.select()\n",
        "\n",
        "# Compute residuals\n",
        "df_pred[\"residuals\"] = \n",
        "df_pred[\"fitted\"] = \n",
        "\n",
        "# Standardized residuals\n",
        "res_mean = \n",
        "res_std = \n",
        "df_pred[\"std_residuals\"] = \n",
        "\n",
        "# Square root of standardized residuals (for Scale-Location)\n",
        "df_pred[\"sqrt_std_resid\"] = \n",
        "\n",
        "\n",
        "plt.figure(figsize=(16, 12))\n",
        "sns.set_theme(style=\"whitegrid\")\n",
        "\n",
        "# Plot 1: Residuals vs Fitted\n",
        "plt.subplot(2, 2, 1)\n",
        "\n",
        "\n",
        "# Plot 2: Normal Q-Q\n",
        "plt.subplot(2, 2, 2)\n",
        "\n",
        "\n",
        "# Plot 3: Scale-Location\n",
        "plt.subplot(2, 2, 3)\n",
        "\n",
        "\n",
        "# Plot 4: Residuals vs Leverage — Approximate\n",
        "# Note: Leverage & Cook's Distance require X matrix; we approximate using fitted & residual\n",
        "plt.subplot(2, 2, 4)\n",
        "\n",
        "\n",
        "plt.tight_layout()\n",
        "plt.savefig(\"_output/glr_diagnostic_classic.png\")\n",
        "plt.show()"
      ]
    },
    {
      "cell_type": "markdown",
      "metadata": {},
      "source": [
        "# Evaluation\n",
        "\n",
        "The evaluation of the model is crucial to understand its performance. In this section, we will calculate and visualize the following metrics:\n",
        "1. **R² (Coefficient of Determination)**: Indicates how well the model explains the variance in the target variable.\n",
        "2. **RMSE (Root Mean Squared Error)**: Measures the average magnitude of the errors between predicted and actual values."
      ]
    },
    {
      "cell_type": "code",
      "execution_count": null,
      "metadata": {},
      "outputs": [],
      "source": [
        "#| eval: true\n",
        "#| echo: false\n",
        "from pyspark.ml.evaluation import RegressionEvaluator\n",
        "from pyspark.sql.functions import col, pow, sqrt, avg\n",
        "import numpy as np\n",
        "\n",
        "pred_glr = lr_model.transform(test_data)\n",
        "\n",
        "# R²\n",
        "r2_eval = \n",
        "r2 = \n",
        "# AIC from GLR summary\n",
        "aic = \n",
        "\n",
        "# BIC calculation\n",
        "n = \n",
        "k = \n",
        "rss = \n",
        "bic = \n",
        "\n",
        "# RMSE manually\n",
        "residuals_df = \n",
        "rmse = "
      ]
    },
    {
      "cell_type": "markdown",
      "metadata": {},
      "source": [
        "## Model Evaluation Plot\n",
        "\n",
        "- Display the predicted vs actual salary plot with a red line indicating the ideal fit (y=x).\n",
        "- Use `seaborn` or `matplotlib` to create the plot.\n",
        "- Customize the plot with appropriate titles, labels, and legends.\n",
        "- Describe the plot in a few sentences, highlighting key insights and observations."
      ]
    },
    {
      "cell_type": "code",
      "execution_count": null,
      "metadata": {},
      "outputs": [],
      "source": [
        "#| eval: true\n",
        "#| echo: false\n",
        "import pandas as pd\n",
        "import matplotlib.pyplot as plt\n",
        "import seaborn as sns\n",
        "\n",
        "# Convert GLR predictions to pandas\n",
        "pandas_df = \n",
        "\n",
        "# Plot\n",
        "plt.figure(figsize=(8, 6))\n",
        "\n",
        "\n",
        "plt.title(f\"Predicted vs Actual Salary (GLR Model)\\n\"\n",
        "          f\"RMSE = {rmse:.2f} | R² = {r2:.4f} | AIC = {aic:.2f} | BIC = {bic:.2f}\", loc=\"left\", fontsize=14, fontweight=\"bold\")\n",
        "\n",
        "plt.tight_layout()\n",
        "\n",
        "# Save figure\n",
        "plt.savefig(\"_output/glr_predicted_vs_actual.png\", dpi=300)\n",
        "plt.show()"
      ]
    },
    {
      "cell_type": "markdown",
      "metadata": {},
      "source": [
        "# Submission {.unnumbered}\n",
        "1. Save figures in the `_output/` folder.\n",
        "2. Commit and push code and output files:\n",
        "```bash\n",
        "git add .\n",
        "git commit -m \"Add Lab 08 Salary Prediction models and output\"\n",
        "git push origin main\n",
        "```\n",
        "3. Submit your GitHub repository link.\n",
        "\n",
        "# Resources {.unnumbered}\n",
        "- [PySpark MLlib Docs](https://spark.apache.org/docs/latest/ml-guide.html)  \n",
        "- [Seaborn Docs](https://seaborn.pydata.org/)  \n",
        "- [Pandas User Guide](https://pandas.pydata.org/docs/user_guide/index.html)\n"
      ]
    }
  ],
  "metadata": {
    "kernelspec": {
      "display_name": "venv",
      "language": "python",
      "name": "python3"
    },
    "language_info": {
      "codemirror_mode": {
        "name": "ipython",
        "version": 3
      },
      "file_extension": ".py",
      "mimetype": "text/x-python",
      "name": "python",
      "nbconvert_exporter": "python",
      "pygments_lexer": "ipython3",
      "version": "3.12.3"
    }
  },
  "nbformat": 4,
  "nbformat_minor": 4
}
